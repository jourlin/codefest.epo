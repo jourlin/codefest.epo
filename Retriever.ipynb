{
 "cells": [
  {
   "cell_type": "markdown",
   "id": "8386f02f-85ba-4559-8139-dbb86d2b9d74",
   "metadata": {},
   "source": [
    "Import libraries and load pretrained model from huggingface"
   ]
  },
  {
   "cell_type": "code",
   "execution_count": 1,
   "id": "5e02796d-75d9-485a-96c0-c91c12230bb7",
   "metadata": {},
   "outputs": [],
   "source": [
    "from sentence_transformers import SentenceTransformer\n",
    "model = SentenceTransformer('NeuML/pubmedbert-base-embeddings-matryoshka')"
   ]
  },
  {
   "cell_type": "markdown",
   "id": "2d0167d5-ac9d-42cc-ae6b-c6b854af3cce",
   "metadata": {},
   "source": [
    "The sentences to be encoded and compared"
   ]
  },
  {
   "cell_type": "code",
   "execution_count": 2,
   "id": "4233af71-87a6-4355-82ad-e53278efbce6",
   "metadata": {},
   "outputs": [],
   "source": [
    "sentences = [\n",
    "    \"The weather is lovely today.\",\n",
    "    \"It's so sunny outside!\",\n",
    "    \"He drove to the stadium.\",\n",
    "]"
   ]
  },
  {
   "cell_type": "markdown",
   "id": "457da485-844b-4a6e-bd92-2f6225bcf8a5",
   "metadata": {},
   "source": [
    "Calculate the embeddings for each sentence by calling model.encode()"
   ]
  },
  {
   "cell_type": "code",
   "execution_count": 6,
   "id": "c4dafe03-d7e5-4e01-a3e6-926b83b53a1a",
   "metadata": {},
   "outputs": [
    {
     "name": "stdout",
     "output_type": "stream",
     "text": [
      "(3, 768)\n"
     ]
    }
   ],
   "source": [
    "embeddings = model.encode(sentences)\n",
    "print(embeddings.shape)"
   ]
  },
  {
   "cell_type": "code",
   "execution_count": 7,
   "id": "6abd1e11-26e7-4fa1-bc9f-d9e8952e8e76",
   "metadata": {},
   "outputs": [
    {
     "name": "stdout",
     "output_type": "stream",
     "text": [
      "tensor([[1.0000, 0.6284, 0.3905],\n",
      "        [0.6284, 1.0000, 0.4483],\n",
      "        [0.3905, 0.4483, 1.0000]])\n"
     ]
    }
   ],
   "source": [
    "similarities = model.similarity(embeddings, embeddings)\n",
    "print(similarities)"
   ]
  }
 ],
 "metadata": {
  "kernelspec": {
   "display_name": "Python 3 (ipykernel)",
   "language": "python",
   "name": "python3"
  },
  "language_info": {
   "codemirror_mode": {
    "name": "ipython",
    "version": 3
   },
   "file_extension": ".py",
   "mimetype": "text/x-python",
   "name": "python",
   "nbconvert_exporter": "python",
   "pygments_lexer": "ipython3",
   "version": "3.11.9"
  }
 },
 "nbformat": 4,
 "nbformat_minor": 5
}
