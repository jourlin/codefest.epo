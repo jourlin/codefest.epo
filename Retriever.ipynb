{
 "cells": [
  {
   "cell_type": "markdown",
   "id": "8386f02f-85ba-4559-8139-dbb86d2b9d74",
   "metadata": {},
   "source": [
    "# Install required frameworks (only once for all)"
   ]
  },
  {
   "cell_type": "code",
   "execution_count": null,
   "id": "89319a1e-7cfb-4bac-a159-ae74d7996d2d",
   "metadata": {},
   "outputs": [],
   "source": [
    "!pip install -U sentence_transformers llama-index llama-index-llms-ollama llama-index-embeddings-huggingface llama-index-vector-stores-deeplake"
   ]
  },
  {
   "cell_type": "markdown",
   "id": "84ab8d3f-2ad9-4455-a900-e449a850ca3e",
   "metadata": {},
   "source": [
    "## If you are lucky enough to be in the list of sudoer's:"
   ]
  },
  {
   "cell_type": "code",
   "execution_count": null,
   "id": "acdce04c-ac6a-4634-b4ea-3be645422518",
   "metadata": {},
   "outputs": [],
   "source": [
    "!sudo curl -fsSL https://ollama.com/install.sh | sh\n",
    "!ollama pull llama3"
   ]
  },
  {
   "cell_type": "markdown",
   "id": "98e2c993-b886-42ae-8fed-773007b5e5a3",
   "metadata": {},
   "source": [
    "## But you are most likely out of sudoer's list and the kernel does not allow you to run processes in background. \n",
    "- So, execute the following commands in your terminal"
   ]
  },
  {
   "cell_type": "code",
   "execution_count": null,
   "id": "adbb1dd2-64ec-4811-aa0c-eb739703bafb",
   "metadata": {},
   "outputs": [],
   "source": [
    "!wget https://github.com/ollama/ollama/releases/download/v0.3.9/ollama-linux-amd64.tgz\n",
    "!tar xvfz ollama-linux-amd64.tgz\n",
    "!./bin/ollama serve &\n",
    "!./bin/ollama pull llama3"
   ]
  },
  {
   "cell_type": "markdown",
   "id": "9a02dc5e-e328-433f-b28a-5979651a6a69",
   "metadata": {},
   "source": [
    "# Configuration (start here for each run)"
   ]
  },
  {
   "cell_type": "code",
   "execution_count": null,
   "id": "8a96b342-c872-49bb-926d-6b23ab2fed38",
   "metadata": {},
   "outputs": [],
   "source": [
    "# Search for the followind terms in patents\n",
    "terms = [\"medical\", \"device\"]\n",
    "# pick a relevant embedding model from Hugginface\n",
    "model_name=\"NeuML/pubmedbert-base-embeddings-matryoshka\"\n",
    "# Search configuration for EPAB client\n",
    "match_all = False # Should patents match all terms ?\n",
    "ignore_case = True # Should we ignore character case during the search\n",
    "# PROD : >7M publications\n",
    "# TEST : ~10K publications\n",
    "epab_size = \"PROD\" # choose database\n",
    "# max number of patents to be stored and indexed for RAG\n",
    "limit = 50\n",
    "# name of index file\n",
    "index_dirname = \"./storage\"\n",
    "!mkdir -p ./storage"
   ]
  },
  {
   "cell_type": "markdown",
   "id": "1ed17595-c3a5-4755-ad60-14d6aadbc573",
   "metadata": {},
   "source": [
    "# Fetch the patent data and store it to disk"
   ]
  },
  {
   "cell_type": "code",
   "execution_count": null,
   "id": "1df23ac3-af64-428a-b7c2-b4ffcf15ee3f",
   "metadata": {},
   "outputs": [],
   "source": [
    "!mkdir -p data\n",
    "!rm -f data/*\n",
    "from bs4 import BeautifulSoup\n",
    "from tqdm import tqdm\n",
    "from epo.tipdata.epab import EPABClient\n",
    "\n",
    "epab = EPABClient(env=epab_size)\n",
    "q = epab.query_description(text=\",\".join(terms), match_all=match_all, ignore_case=ignore_case)\n",
    "all = \"all\" if match_all else \"one of the\"\n",
    "print(f\"Found {q} publications containing the {all} following terms: {terms}\")\n",
    "tab = q.get_results(\n",
    "    \"epab_doc_id, title.fr, abstract, description, publication, inventor\", limit=limit\n",
    ")\n",
    "print(f\"Storing {limit} patents to disk...\")\n",
    "for offset in tqdm(range(limit)):\n",
    "    data = tab[\"description.text\"][offset]\n",
    "    with open(\"data/\" + tab[\"epab_doc_id\"][offset] + \".txt\", \"w\") as file:\n",
    "        print(data, file=file)\n",
    "    soup = BeautifulSoup(data, \"html.parser\")\n",
    "print(\"Done.\")"
   ]
  },
  {
   "cell_type": "markdown",
   "id": "83b1a412-d86f-43b4-8eb7-f57742361dc7",
   "metadata": {},
   "source": [
    "# Now :\n",
    "- let's vectorise patents and build the index\n",
    "- Then, start asking questions about these patents"
   ]
  },
  {
   "cell_type": "code",
   "execution_count": null,
   "id": "5e02796d-75d9-485a-96c0-c91c12230bb7",
   "metadata": {},
   "outputs": [],
   "source": [
    "from llama_index.core import Settings, SimpleDirectoryReader, VectorStoreIndex, StorageContext\n",
    "from llama_index.embeddings.huggingface import HuggingFaceEmbedding\n",
    "from llama_index.llms.ollama import Ollama\n",
    "from llama_index.vector_stores.deeplake import DeepLakeVectorStore\n",
    "\n",
    "# construct vector store and customize storage context\n",
    "vector_store = DeepLakeVectorStore(dataset_path=index_dirname)\n",
    "storage_context = StorageContext.from_defaults(vector_store=vector_store)\n",
    "\n",
    "# Load documents and build index\n",
    "documents = SimpleDirectoryReader(\"data\").load_data()\n",
    "\n",
    "# embedding model\n",
    "Settings.embed_model = HuggingFaceEmbedding(\n",
    "    model_name=model_name\n",
    ")\n",
    "\n",
    "# ollama\n",
    "Settings.llm = Ollama(model=\"llama3\", request_timeout=360.0)\n",
    "print(\"Indexing patents can take some time...\")\n",
    "index = VectorStoreIndex.from_documents(\n",
    "    documents, show_progress=True, storage_context=storage_context\n",
    ")\n",
    "\n",
    "print(\"Indexing patents completed...\")\n",
    "#!rm -f data/*\n",
    "!ls ./storage/*"
   ]
  },
  {
   "cell_type": "markdown",
   "id": "330d2990-7c9a-4f71-b10b-57b98b7f9a83",
   "metadata": {},
   "source": [
    "# Here is the chat part. \n",
    "As patents are stored in datalake, the block can be stopped and restarted as wanted "
   ]
  },
  {
   "cell_type": "code",
   "execution_count": null,
   "id": "f285dd6b-3a91-470a-bdfa-3b8b9a6a00b5",
   "metadata": {},
   "outputs": [],
   "source": [
    "from llama_index.core.storage.docstore import SimpleDocumentStore\n",
    "from llama_index.core.storage.index_store import SimpleIndexStore\n",
    "from llama_index.core.vector_stores import SimpleVectorStore\n",
    "from llama_index.core import StorageContext\n",
    "\n",
    "# define vector store\n",
    "vector_store = DeepLakeVectorStore(dataset_path=index_dirname)\n",
    "\n",
    "print(f'Loading index from {index_dirname}')\n",
    "index = VectorStoreIndex.from_vector_store(vector_store=vector_store)\n",
    "\n",
    "query_engine = index.as_query_engine()\n",
    "while True:\n",
    "    query = input(\"How can I help ? (answer 'bye' to quit) \" + \"\\n>\")\n",
    "    if query == \"bye\":\n",
    "        break\n",
    "    response = query_engine.query(query)\n",
    "    print(response)"
   ]
  }
 ],
 "metadata": {
  "kernelspec": {
   "display_name": "Python 3 (ipykernel)",
   "language": "python",
   "name": "python3"
  },
  "language_info": {
   "codemirror_mode": {
    "name": "ipython",
    "version": 3
   },
   "file_extension": ".py",
   "mimetype": "text/x-python",
   "name": "python",
   "nbconvert_exporter": "python",
   "pygments_lexer": "ipython3",
   "version": "3.11.9"
  }
 },
 "nbformat": 4,
 "nbformat_minor": 5
}
